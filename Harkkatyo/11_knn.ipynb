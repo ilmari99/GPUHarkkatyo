{
 "cells": [
  {
   "cell_type": "markdown",
   "metadata": {},
   "source": [
    "Import libraries and define k"
   ]
  },
  {
   "cell_type": "code",
   "execution_count": 365,
   "metadata": {},
   "outputs": [],
   "source": [
    "import numpy as np\n",
    "import cupy as cp\n",
    "import time\n",
    "\n",
    "import matplotlib.pyplot as plt\n",
    "\n",
    "from sklearn.model_selection import train_test_split\n",
    "from sklearn.metrics import classification_report, confusion_matrix"
   ]
  },
  {
   "cell_type": "markdown",
   "metadata": {},
   "source": [
    "Read data and split it to train and test sets. Define k."
   ]
  },
  {
   "cell_type": "code",
   "execution_count": 366,
   "metadata": {},
   "outputs": [
    {
     "name": "stdout",
     "output_type": "stream",
     "text": [
      "(800, 10)\n"
     ]
    }
   ],
   "source": [
    "k = 3\n",
    "\n",
    "data = np.loadtxt( \"MLoGPU_data1_train.csv\", delimiter = \",\", dtype = np.float32 )\n",
    "\n",
    "n_test = int( 0.2*data.shape[0] )\n",
    "\n",
    "x_data = np.array( data[ :, 0:-1 ] )\n",
    "y_data = np.array( data[ :, -1 ] ).reshape(-1, 1)\n",
    "\n",
    "X_train, X_test, Y_train, Y_test = train_test_split( x_data, y_data, test_size = n_test, stratify = y_data )\n",
    "\n",
    "print( X_test.shape)"
   ]
  },
  {
   "cell_type": "markdown",
   "metadata": {},
   "source": [
    "Defining kernel code"
   ]
  },
  {
   "cell_type": "code",
   "execution_count": 367,
   "metadata": {},
   "outputs": [],
   "source": [
    "l2distance = cp.RawKernel(r\"\"\"\n",
    "  extern \"C\" __global__ \n",
    "  void euclidean_distance( float* a, float* b, float* c, int vec_length, int vec_num) {\n",
    "\n",
    "    int thread_index = blockIdx.x * blockDim.x + threadIdx.x;\n",
    "    float term_diff = 0;\n",
    "    float difference = 0;\n",
    "    \n",
    "    if ( thread_index > vec_num  ) {\n",
    "      return;\n",
    "    }\n",
    "\n",
    "    for ( int ii = 0; ii < vec_length; ++ii ) {\n",
    "      \n",
    "      term_diff = 0;\n",
    "\n",
    "      int vec_index = vec_length*thread_index + ii;\n",
    "    \n",
    "      term_diff = b[ii] - a[ vec_index ];\n",
    "      difference += term_diff*term_diff;\n",
    "      \n",
    "      __syncthreads();\n",
    "\n",
    "    }\n",
    "    c[ thread_index ] = sqrtf( difference );\n",
    "  }\n",
    "\"\"\", \"euclidean_distance\")"
   ]
  },
  {
   "cell_type": "markdown",
   "metadata": {},
   "source": [
    "Defining constants and block and grid dims"
   ]
  },
  {
   "cell_type": "code",
   "execution_count": 368,
   "metadata": {},
   "outputs": [],
   "source": [
    "N_training = X_train.shape[0]\n",
    "N_features = X_train.shape[1]\n",
    "\n",
    "if N_training < 1024:\n",
    "    numThreadsNeeded = N_training\n",
    "else:\n",
    "    numThreadsNeeded = 1024\n",
    "\n",
    "numBlocks = np.int32( np.ceil( N_training / numThreadsNeeded ) )\n",
    "\n",
    "block_dims = ( numThreadsNeeded, 1, 1 )\n",
    "grid_dims = ( numBlocks, 1, 1 )\n",
    "\n"
   ]
  },
  {
   "cell_type": "markdown",
   "metadata": {},
   "source": [
    "Doing the classification"
   ]
  },
  {
   "cell_type": "code",
   "execution_count": 369,
   "metadata": {},
   "outputs": [
    {
     "name": "stdout",
     "output_type": "stream",
     "text": [
      "Average calculation time of the distances for a test vector:  2.8508499744930305e-05\n"
     ]
    }
   ],
   "source": [
    "# Move data to device\n",
    "training_vecs_gpu = cp.asarray( X_train )\n",
    "distances = cp.zeros( [ N_training, 1 ], dtype = np.float32 )\n",
    "predictions_gpu = np.zeros( ( X_test.shape[0], 1 ), dtype = np.int16 )\n",
    "\n",
    "# Initializing erformance measurements\n",
    "distance_times = np.zeros( ( X_test.shape[0], 1 ), dtype = np.float64 )\n",
    "start_time = time.perf_counter()\n",
    "\n",
    "# For each vector\n",
    "for ii in range( X_test.shape[0] ):\n",
    "    \n",
    "    test_vec = X_test[ ii, : ]\n",
    "    test_vec_gpu = cp.asarray( test_vec )\n",
    "\n",
    "    # Executing the kernel\n",
    "    dist_time = time.perf_counter()\n",
    "    l2distance( grid_dims, block_dims, ( training_vecs_gpu, test_vec_gpu, distances, N_features, N_training ) )\n",
    "    distance_times[ii] = time.perf_counter() - dist_time\n",
    "    \n",
    "    # Sorting the distances \n",
    "    distance_data = cp.concatenate( ( distances, cp.asarray( Y_train ) ), axis = 1 )\n",
    "    \n",
    "    ind = cp.argsort( distance_data[ :, 0 ] )\n",
    "    sorted_distances = distance_data[ ind ]\n",
    "    \n",
    "    kNearest = sorted_distances[ 0:k, 1 ]\n",
    "    unique, counts = cp.unique( kNearest, return_counts = True )\n",
    "    \n",
    "    label_ind = cp.argsort( counts )[-1]\n",
    "    predicted_label = unique[ label_ind ]\n",
    "        \n",
    "    predictions_gpu[ii] = np.int16( predicted_label.get() )\n",
    "    \n",
    "time_GPU = round( ( time.perf_counter() - start_time ), 3 )\n",
    "\n",
    "print( \"Average calculation time of the distances for a test vector: \", np.mean( distance_times ) )"
   ]
  },
  {
   "cell_type": "markdown",
   "metadata": {},
   "source": [
    "Visualizing and evaluating results"
   ]
  },
  {
   "cell_type": "code",
   "execution_count": 370,
   "metadata": {},
   "outputs": [
    {
     "name": "stdout",
     "output_type": "stream",
     "text": [
      "[[  0   0   0   1   1   1   0]\n",
      " [  0   3   8  11   4   2   0]\n",
      " [  0   6 142  61  19   9   0]\n",
      " [  0   4  65 197  71  18   0]\n",
      " [  0   0   3  57  76  11   0]\n",
      " [  0   0   0   9  10  10   0]\n",
      " [  0   0   0   1   0   0   0]]\n",
      "              precision    recall  f1-score   support\n",
      "\n",
      "         3.0       0.00      0.00      0.00         3\n",
      "         4.0       0.23      0.11      0.15        28\n",
      "         5.0       0.65      0.60      0.62       237\n",
      "         6.0       0.58      0.55      0.57       355\n",
      "         7.0       0.42      0.52      0.46       147\n",
      "         8.0       0.20      0.34      0.25        29\n",
      "         9.0       0.00      0.00      0.00         1\n",
      "\n",
      "    accuracy                           0.54       800\n",
      "   macro avg       0.30      0.30      0.29       800\n",
      "weighted avg       0.54      0.54      0.54       800\n",
      "\n"
     ]
    },
    {
     "name": "stderr",
     "output_type": "stream",
     "text": [
      "c:\\Users\\erikk\\AppData\\Local\\Programs\\Python\\Python312\\Lib\\site-packages\\sklearn\\metrics\\_classification.py:1509: UndefinedMetricWarning: Precision is ill-defined and being set to 0.0 in labels with no predicted samples. Use `zero_division` parameter to control this behavior.\n",
      "  _warn_prf(average, modifier, f\"{metric.capitalize()} is\", len(result))\n",
      "c:\\Users\\erikk\\AppData\\Local\\Programs\\Python\\Python312\\Lib\\site-packages\\sklearn\\metrics\\_classification.py:1509: UndefinedMetricWarning: Precision is ill-defined and being set to 0.0 in labels with no predicted samples. Use `zero_division` parameter to control this behavior.\n",
      "  _warn_prf(average, modifier, f\"{metric.capitalize()} is\", len(result))\n",
      "c:\\Users\\erikk\\AppData\\Local\\Programs\\Python\\Python312\\Lib\\site-packages\\sklearn\\metrics\\_classification.py:1509: UndefinedMetricWarning: Precision is ill-defined and being set to 0.0 in labels with no predicted samples. Use `zero_division` parameter to control this behavior.\n",
      "  _warn_prf(average, modifier, f\"{metric.capitalize()} is\", len(result))\n"
     ]
    },
    {
     "data": {
      "image/png": "[encoded data removed]",
      "text/plain": [
       "<Figure size 640x480 with 2 Axes>"
      ]
     },
     "metadata": {},
     "output_type": "display_data"
    }
   ],
   "source": [
    "unique_labels = np.unique( data[ :, -1 ] )\n",
    "\n",
    "Y_test_bins = np.bincount( np.squeeze( Y_test ).astype( np.int16 ) )[3:]\n",
    "predicted_bins = np.bincount( np.squeeze( predictions_gpu ) )[3:]\n",
    "\n",
    "fig, axarr = plt.subplots(1,2)\n",
    "\n",
    "axarr[0].bar( unique_labels[ 0:len( Y_test_bins )], Y_test_bins ) \n",
    "titlestr = 'Actual labels'\n",
    "axarr[0].set_title( titlestr )\n",
    "axarr[0].set( xlabel = 'Label' )\n",
    "\n",
    "axarr[1].bar( unique_labels[ 0:len( predicted_bins ) ], predicted_bins )\n",
    "titlestr = 'Test data'\n",
    "axarr[1].set_title( titlestr )\n",
    "axarr[1].set( xlabel = 'Label' )\n",
    "\n",
    "titlestr = \"kNN, GPU. Exec time = \" + str( time_GPU ) + \" s\"\n",
    "fig.suptitle( titlestr )\n",
    "\n",
    "print( confusion_matrix( Y_test, predictions_gpu ) )\n",
    "print( classification_report( Y_test, predictions_gpu ) )"
   ]
  },
  {
   "cell_type": "markdown",
   "metadata": {},
   "source": [
    "Implementation using CPU for comparison"
   ]
  },
  {
   "cell_type": "code",
   "execution_count": 371,
   "metadata": {},
   "outputs": [
    {
     "name": "stdout",
     "output_type": "stream",
     "text": [
      "Average calculation time of the distances for a test vector:  6.271287391427904e-05\n",
      "[[  0   0   0   1   1   1   0]\n",
      " [  0   3   8  11   4   2   0]\n",
      " [  0   6 142  61  19   9   0]\n",
      " [  0   4  65 197  71  18   0]\n",
      " [  0   0   3  57  76  11   0]\n",
      " [  0   0   0   9  10  10   0]\n",
      " [  0   0   0   1   0   0   0]]\n",
      "              precision    recall  f1-score   support\n",
      "\n",
      "         3.0       0.00      0.00      0.00         3\n",
      "         4.0       0.23      0.11      0.15        28\n",
      "         5.0       0.65      0.60      0.62       237\n",
      "         6.0       0.58      0.55      0.57       355\n",
      "         7.0       0.42      0.52      0.46       147\n",
      "         8.0       0.20      0.34      0.25        29\n",
      "         9.0       0.00      0.00      0.00         1\n",
      "\n",
      "    accuracy                           0.54       800\n",
      "   macro avg       0.30      0.30      0.29       800\n",
      "weighted avg       0.54      0.54      0.54       800\n",
      "\n"
     ]
    },
    {
     "name": "stderr",
     "output_type": "stream",
     "text": [
      "c:\\Users\\erikk\\AppData\\Local\\Programs\\Python\\Python312\\Lib\\site-packages\\sklearn\\metrics\\_classification.py:1509: UndefinedMetricWarning: Precision is ill-defined and being set to 0.0 in labels with no predicted samples. Use `zero_division` parameter to control this behavior.\n",
      "  _warn_prf(average, modifier, f\"{metric.capitalize()} is\", len(result))\n",
      "c:\\Users\\erikk\\AppData\\Local\\Programs\\Python\\Python312\\Lib\\site-packages\\sklearn\\metrics\\_classification.py:1509: UndefinedMetricWarning: Precision is ill-defined and being set to 0.0 in labels with no predicted samples. Use `zero_division` parameter to control this behavior.\n",
      "  _warn_prf(average, modifier, f\"{metric.capitalize()} is\", len(result))\n",
      "c:\\Users\\erikk\\AppData\\Local\\Programs\\Python\\Python312\\Lib\\site-packages\\sklearn\\metrics\\_classification.py:1509: UndefinedMetricWarning: Precision is ill-defined and being set to 0.0 in labels with no predicted samples. Use `zero_division` parameter to control this behavior.\n",
      "  _warn_prf(average, modifier, f\"{metric.capitalize()} is\", len(result))\n"
     ]
    },
    {
     "data": {
      "image/png": "[encoded data removed]",
      "text/plain": [
       "<Figure size 640x480 with 2 Axes>"
      ]
     },
     "metadata": {},
     "output_type": "display_data"
    }
   ],
   "source": [
    "predictions_cpu = np.zeros( ( X_test.shape[0], 1 ), dtype = np.int16 )\n",
    "\n",
    "# Initializing erformance measurements\n",
    "start_time = time.perf_counter()\n",
    "distance_times = np.zeros( ( X_test.shape[0], 1 ), dtype = np.float64 )\n",
    "\n",
    "# For each test vector\n",
    "for ii in range( X_test.shape[0] ):\n",
    "    \n",
    "    test_vec = X_test[ ii, : ]\n",
    "\n",
    "    # Calculating the distances\n",
    "    dist_time = time.perf_counter()\n",
    "    distances = np.linalg.norm( X_train - test_vec, axis = 1 ).reshape(-1, 1)\n",
    "    distance_times[ii] = time.perf_counter() - dist_time\n",
    "\n",
    "    # Sorting the distances \n",
    "    distance_data = np.concatenate( ( distances, Y_train ), axis = 1 )\n",
    "    \n",
    "    ind = np.argsort( distance_data[ :, 0 ] )\n",
    "    sorted_distances = distance_data[ ind ]\n",
    "    \n",
    "    kNearest = sorted_distances[ 0:k, 1 ]\n",
    "    unique, counts = np.unique( kNearest, return_counts = True )\n",
    "    \n",
    "    label_ind = np.argsort( counts )[-1]\n",
    "    predicted_label = unique[ label_ind ]\n",
    "        \n",
    "    predictions_cpu[ii] = predicted_label \n",
    "    \n",
    "time_CPU = round( ( time.perf_counter() - start_time ), 3 )\n",
    "print( \"Average calculation time of the distances for a test vector: \", np.mean( distance_times ) )\n",
    "\n",
    "predicted_bins = np.bincount( np.int64( np.squeeze( predictions_cpu ) ) )[3:]\n",
    "\n",
    "time_CPU = round( ( time.perf_counter() - start_time ), 3 )\n",
    "\n",
    "fig, axarr = plt.subplots(1,2)\n",
    "\n",
    "# Visualizing and evaluation\n",
    "axarr[0].bar( unique_labels[ 0:len( Y_test_bins )], Y_test_bins ) \n",
    "titlestr = 'Actual labels'\n",
    "axarr[0].set_title( titlestr )\n",
    "axarr[0].set( xlabel = 'Label' )\n",
    "\n",
    "axarr[1].bar( unique_labels[ 0:len( predicted_bins ) ], predicted_bins )\n",
    "titlestr = 'Test data'\n",
    "axarr[1].set_title( titlestr )\n",
    "axarr[1].set( xlabel = 'Label' )\n",
    "\n",
    "titlestr = \"kNN, CPU. Exec time = \" + str( time_CPU ) + \" s\"\n",
    "fig.suptitle( titlestr )\n",
    "\n",
    "print( confusion_matrix( Y_test, predictions_cpu ) )\n",
    "print( classification_report( Y_test, predictions_cpu ) )"
   ]
  }
 ],
 "metadata": {
  "kernelspec": {
   "display_name": "Python 3",
   "language": "python",
   "name": "python3"
  },
  "language_info": {
   "codemirror_mode": {
    "name": "ipython",
    "version": 3
   },
   "file_extension": ".py",
   "mimetype": "text/x-python",
   "name": "python",
   "nbconvert_exporter": "python",
   "pygments_lexer": "ipython3",
   "version": "3.12.1"
  }
 },
 "nbformat": 4,
 "nbformat_minor": 2
}
