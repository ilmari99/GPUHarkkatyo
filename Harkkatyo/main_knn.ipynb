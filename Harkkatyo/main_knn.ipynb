{
 "cells": [
  {
   "cell_type": "markdown",
   "metadata": {},
   "source": [
    "Import libraries and define k"
   ]
  },
  {
   "cell_type": "code",
   "execution_count": 585,
   "metadata": {},
   "outputs": [],
   "source": [
    "import pycuda.autoinit\n",
    "import pycuda.driver as cuda\n",
    "from pycuda.compiler import SourceModule\n",
    "import numpy as np\n",
    "import matplotlib.pyplot as plt\n",
    "from sklearn.model_selection import train_test_split"
   ]
  },
  {
   "cell_type": "markdown",
   "metadata": {},
   "source": [
    "Read data and split it to train and test sets. Define k."
   ]
  },
  {
   "cell_type": "code",
   "execution_count": 586,
   "metadata": {},
   "outputs": [],
   "source": [
    "k = 2\n",
    "n_test = 100\n",
    "\n",
    "data = np.loadtxt( \"MLoGPU_data1_train.csv\", delimiter = \",\", dtype = np.float32 )\n",
    "x_data = np.array( data[ :, 0:-1 ] )\n",
    "y_data = np.array( data[ :, -1 ] ).reshape(-1, 1)\n",
    "\n",
    "X_train, X_test, Y_train, Y_test = train_test_split( x_data, y_data, test_size = n_test )\n"
   ]
  },
  {
   "cell_type": "markdown",
   "metadata": {},
   "source": [
    "Defining kernel code"
   ]
  },
  {
   "cell_type": "code",
   "execution_count": 587,
   "metadata": {},
   "outputs": [],
   "source": [
    "kernel_code = \"\"\"\n",
    "  __global__ void euclidean_distance( float* a, float* b, float* c, int vec_length, int vec_num) {\n",
    "\n",
    "    int thread_index = blockIdx.x * blockDim.x + threadIdx.x;\n",
    "    float term_diff = 0;\n",
    "    float difference = 0;\n",
    "    \n",
    "    if ( thread_index > vec_num  ) {\n",
    "      return;\n",
    "    }\n",
    "\n",
    "    for ( int ii = 0; ii < vec_length; ++ii ) {\n",
    "      \n",
    "      term_diff = 0;\n",
    "\n",
    "      int vec_index = vec_length*thread_index + ii;\n",
    "    \n",
    "      term_diff = b[ii] - a[ vec_index ];\n",
    "      difference += term_diff*term_diff;\n",
    "      \n",
    "      __syncthreads();\n",
    "\n",
    "    }\n",
    "\n",
    "    c[ thread_index ] = sqrtf( difference );\n",
    "    \n",
    "   \n",
    "  }\n",
    "\"\"\""
   ]
  },
  {
   "cell_type": "markdown",
   "metadata": {},
   "source": [
    "Defining constants and block and grid dims"
   ]
  },
  {
   "cell_type": "code",
   "execution_count": 588,
   "metadata": {},
   "outputs": [],
   "source": [
    "N_training = X_train.shape[0]\n",
    "N_features = X_train.shape[1]\n",
    "\n",
    "if N_training < 1024:\n",
    "  THREADS = N_training\n",
    "else:\n",
    "  THREADS = 1024\n",
    "\n",
    "gridDim = int( np.ceil( N_training/THREADS ) )\n",
    "block_dims = ( THREADS, 1, 1 )\n",
    "grid_dims = ( gridDim, 1, 1 )"
   ]
  },
  {
   "cell_type": "markdown",
   "metadata": {},
   "source": [
    "Doing the classification"
   ]
  },
  {
   "cell_type": "code",
   "execution_count": 589,
   "metadata": {},
   "outputs": [],
   "source": [
    "# Compile the kernel code\n",
    "modd = SourceModule( kernel_code )\n",
    "dist_fun = modd.get_function( \"euclidean_distance\" )\n",
    "\n",
    "# Allocate memroy to GPU\n",
    "training_vecs_gpu = cuda.mem_alloc( X_train.nbytes )\n",
    "cuda.memcpy_htod( training_vecs_gpu, X_train )\n",
    "\n",
    "distances = np.empty( [ N_training, 1 ], dtype = np.float32 )\n",
    "distances_gpu = cuda.mem_alloc( distances.nbytes )\n",
    "\n",
    "predicted_labels = []\n",
    "\n",
    "# For each test vector\n",
    "for ii in range( X_test.shape[0] ):\n",
    "    \n",
    "    test_vec = X_test[ ii, : ]\n",
    "\n",
    "    test_vec_gpu = cuda.mem_alloc( test_vec.nbytes )\n",
    "    cuda.memcpy_htod( test_vec_gpu, test_vec )\n",
    "\n",
    "    # Executing the kernel\n",
    "    dist_fun( training_vecs_gpu, test_vec_gpu, distances_gpu, np.int32( N_features ), np.int32( N_training ),\n",
    "              block = block_dims, grid = grid_dims )\n",
    "\n",
    "    cuda.memcpy_dtoh( distances, distances_gpu )\n",
    "    \n",
    "    # Sorting the distances \n",
    "    distance_data = np.concatenate( ( distances, Y_train ), axis = 1 )\n",
    "    \n",
    "    ind = np.argsort( distance_data[ :, 0 ] )\n",
    "    sorted_distances = distance_data[ ind ]\n",
    "    \n",
    "    label_predicted = max( set( sorted_distances[ 0:k, 1 ] ) )\n",
    "    \n",
    "    predicted_labels.append( label_predicted )\n",
    "    \n",
    "predicted_labels = np.array( predicted_labels )\n",
    "    "
   ]
  },
  {
   "cell_type": "markdown",
   "metadata": {},
   "source": [
    "Visualizing results"
   ]
  },
  {
   "cell_type": "code",
   "execution_count": 590,
   "metadata": {},
   "outputs": [
    {
     "name": "stdout",
     "output_type": "stream",
     "text": [
      "[3. 4. 5. 6. 7. 8. 9.]\n",
      "[ 0  2 17 43 30  8]\n",
      "6\n"
     ]
    },
    {
     "data": {
      "image/png": "[encoded data removed]",
      "text/plain": [
       "<Figure size 640x480 with 1 Axes>"
      ]
     },
     "metadata": {},
     "output_type": "display_data"
    },
    {
     "data": {
      "image/png": "[encoded data removed]",
      "text/plain": [
       "<Figure size 640x480 with 1 Axes>"
      ]
     },
     "metadata": {},
     "output_type": "display_data"
    }
   ],
   "source": [
    "unique_labels = np.unique( data[ :, -1 ] )\n",
    "\n",
    "Y_test_bins = np.bincount( np.squeeze( Y_test ).astype( np.int16 ) )[3:]\n",
    "predicted_bins = np.bincount( np.squeeze( predicted_labels ).astype( np.int16 ) )[3:]\n",
    "\n",
    "plt.bar( unique_labels[ 0:len( Y_test_bins )], Y_test_bins ) \n",
    "plt.show()\n",
    "\n",
    "plt.bar( unique_labels[ 0:len( predicted_bins ) ], predicted_bins )\n",
    "plt.show()"
   ]
  }
 ],
 "metadata": {
  "kernelspec": {
   "display_name": "Python 3",
   "language": "python",
   "name": "python3"
  },
  "language_info": {
   "codemirror_mode": {
    "name": "ipython",
    "version": 3
   },
   "file_extension": ".py",
   "mimetype": "text/x-python",
   "name": "python",
   "nbconvert_exporter": "python",
   "pygments_lexer": "ipython3",
   "version": "3.12.1"
  }
 },
 "nbformat": 4,
 "nbformat_minor": 2
}
