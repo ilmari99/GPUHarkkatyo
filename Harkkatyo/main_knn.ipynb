{
 "cells": [
  {
   "cell_type": "markdown",
   "metadata": {},
   "source": [
    "Import libraries and define k"
   ]
  },
  {
   "cell_type": "code",
   "execution_count": 359,
   "metadata": {},
   "outputs": [],
   "source": [
    "import numpy as np\n",
    "import cupy as cp\n",
    "import matplotlib.pyplot as plt\n",
    "from sklearn.model_selection import train_test_split"
   ]
  },
  {
   "cell_type": "markdown",
   "metadata": {},
   "source": [
    "Read data and split it to train and test sets. Define k."
   ]
  },
  {
   "cell_type": "code",
   "execution_count": 360,
   "metadata": {},
   "outputs": [],
   "source": [
    "k = 5\n",
    "n_test = 100\n",
    "\n",
    "data = np.loadtxt( \"MLoGPU_data1_train.csv\", delimiter = \",\", dtype = np.float32 )\n",
    "x_data = np.array( data[ :, 0:-1 ] )\n",
    "y_data = np.array( data[ :, -1 ] ).reshape(-1, 1)\n",
    "\n",
    "X_train, X_test, Y_train, Y_test = train_test_split( x_data, y_data, test_size = n_test, stratify = y_data )\n"
   ]
  },
  {
   "cell_type": "markdown",
   "metadata": {},
   "source": [
    "Defining kernel code"
   ]
  },
  {
   "cell_type": "code",
   "execution_count": 361,
   "metadata": {},
   "outputs": [],
   "source": [
    "l2distance = cp.RawKernel(r\"\"\"\n",
    "  extern \"C\" __global__ \n",
    "  void euclidean_distance( float* a, float* b, float* c, int vec_length, int vec_num) {\n",
    "\n",
    "    int thread_index = blockIdx.x * blockDim.x + threadIdx.x;\n",
    "    float term_diff = 0;\n",
    "    float difference = 0;\n",
    "    \n",
    "    if ( thread_index > vec_num  ) {\n",
    "      return;\n",
    "    }\n",
    "\n",
    "    for ( int ii = 0; ii < vec_length; ++ii ) {\n",
    "      \n",
    "      term_diff = 0;\n",
    "\n",
    "      int vec_index = vec_length*thread_index + ii;\n",
    "    \n",
    "      term_diff = b[ii] - a[ vec_index ];\n",
    "      difference += term_diff*term_diff;\n",
    "      \n",
    "      __syncthreads();\n",
    "\n",
    "    }\n",
    "    c[ thread_index ] = sqrtf( difference );    \n",
    "  }\n",
    "\"\"\", \"euclidean_distance\")"
   ]
  },
  {
   "cell_type": "markdown",
   "metadata": {},
   "source": [
    "Defining constants and block and grid dims"
   ]
  },
  {
   "cell_type": "code",
   "execution_count": 362,
   "metadata": {},
   "outputs": [],
   "source": [
    "N_training = X_train.shape[0]\n",
    "N_features = X_train.shape[1]\n",
    "\n",
    "if N_training < 1024:\n",
    "  THREADS = N_training\n",
    "else:\n",
    "  THREADS = 1024\n",
    "\n",
    "gridDim = int( np.ceil( N_training/THREADS ) )\n",
    "block_dims = ( THREADS, 1, 1 )\n",
    "grid_dims = ( gridDim, 1, 1 )"
   ]
  },
  {
   "cell_type": "markdown",
   "metadata": {},
   "source": [
    "Doing the classification"
   ]
  },
  {
   "cell_type": "code",
   "execution_count": 363,
   "metadata": {},
   "outputs": [],
   "source": [
    "# Move data to device\n",
    "training_vecs_gpu = cp.asarray( X_train )\n",
    "distances = cp.empty( [ N_training, 1 ], dtype = np.float32 )\n",
    "predicted_labels = np.zeros( ( X_test.shape[0], 1 ), dtype = np.int16 )\n",
    "\n",
    "# For each test vector\n",
    "for ii in range( X_test.shape[0] ):\n",
    "    \n",
    "    test_vec = X_test[ ii, : ]\n",
    "    test_vec_gpu = cp.asarray( test_vec )\n",
    "\n",
    "    # Executing the kernel\n",
    "    l2distance( grid_dims, block_dims, ( training_vecs_gpu, test_vec_gpu, distances, N_features, N_training ) )\n",
    "    \n",
    "    # Sorting the distances \n",
    "    distance_data = cp.concatenate( ( distances, cp.asarray( Y_train ) ), axis = 1 )\n",
    "    \n",
    "    ind = cp.argsort( distance_data[ :, 0 ] )\n",
    "    sorted_distances = distance_data[ ind ]\n",
    "    \n",
    "    kNearest = sorted_distances[ 0:k, 1 ]\n",
    "    unique, counts = cp.unique( kNearest, return_counts = True )\n",
    "    \n",
    "    label_ind = cp.argsort( counts )[-1]\n",
    "    predicted_label = unique[ label_ind ]\n",
    "        \n",
    "    predicted_labels[ii] = np.int16( predicted_label.get() )\n",
    "    "
   ]
  },
  {
   "cell_type": "markdown",
   "metadata": {},
   "source": [
    "Visualizing results"
   ]
  },
  {
   "cell_type": "code",
   "execution_count": 364,
   "metadata": {},
   "outputs": [
    {
     "data": {
      "image/png": "[encoded data removed]",
      "text/plain": [
       "<Figure size 640x480 with 1 Axes>"
      ]
     },
     "metadata": {},
     "output_type": "display_data"
    },
    {
     "data": {
      "image/png": "[encoded data removed]",
      "text/plain": [
       "<Figure size 640x480 with 1 Axes>"
      ]
     },
     "metadata": {},
     "output_type": "display_data"
    }
   ],
   "source": [
    "unique_labels = np.unique( data[ :, -1 ] )\n",
    "\n",
    "Y_test_bins = np.bincount( np.squeeze( Y_test ).astype( np.int16 ) )[3:]\n",
    "predicted_bins = np.bincount( np.squeeze( predicted_labels ) )[3:]\n",
    "\n",
    "plt.bar( unique_labels[ 0:len( Y_test_bins )], Y_test_bins ) \n",
    "plt.show()\n",
    "\n",
    "plt.bar( unique_labels[ 0:len( predicted_bins ) ], predicted_bins )\n",
    "plt.show()"
   ]
  },
  {
   "cell_type": "markdown",
   "metadata": {},
   "source": [
    "kNN using "
   ]
  }
 ],
 "metadata": {
  "kernelspec": {
   "display_name": "Python 3",
   "language": "python",
   "name": "python3"
  },
  "language_info": {
   "codemirror_mode": {
    "name": "ipython",
    "version": 3
   },
   "file_extension": ".py",
   "mimetype": "text/x-python",
   "name": "python",
   "nbconvert_exporter": "python",
   "pygments_lexer": "ipython3",
   "version": "3.12.1"
  }
 },
 "nbformat": 4,
 "nbformat_minor": 2
}
