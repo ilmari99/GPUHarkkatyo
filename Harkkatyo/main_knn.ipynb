{
 "cells": [
  {
   "cell_type": "markdown",
   "metadata": {},
   "source": [
    "Import libraries"
   ]
  },
  {
   "cell_type": "code",
   "execution_count": 8,
   "metadata": {},
   "outputs": [],
   "source": [
    "import pycuda.autoinit\n",
    "import pycuda.driver as cuda\n",
    "from pycuda.compiler import SourceModule\n",
    "import numpy as np"
   ]
  },
  {
   "cell_type": "markdown",
   "metadata": {},
   "source": [
    "Defining kernel code"
   ]
  },
  {
   "cell_type": "code",
   "execution_count": 9,
   "metadata": {},
   "outputs": [],
   "source": [
    "kernel_code = \"\"\"\n",
    "  __global__ void euclidean_distance( float* a, float* b, float* c, int vec_length, int vec_num) {\n",
    "\n",
    "    int thread_index = blockIdx.x * blockDim.x + threadIdx.x;\n",
    "    float term_diff = 0;\n",
    "    float difference = 0;\n",
    "    \n",
    "    if ( thread_index > vec_num  ) {\n",
    "      return;\n",
    "    }\n",
    "\n",
    "    for ( int ii = 0; ii < vec_length; ++ii ) {\n",
    "      \n",
    "      term_diff = 0;\n",
    "\n",
    "      int vec_index = vec_length*thread_index + ii;\n",
    "    \n",
    "      term_diff = b[ii] - a[ vec_index ];\n",
    "      difference += term_diff*term_diff;\n",
    "      \n",
    "      __syncthreads();\n",
    "\n",
    "    }\n",
    "\n",
    "    c[ thread_index ] = sqrtf( difference );\n",
    "    \n",
    "   \n",
    "  }\n",
    "\"\"\""
   ]
  },
  {
   "cell_type": "markdown",
   "metadata": {},
   "source": [
    "Read data"
   ]
  },
  {
   "cell_type": "code",
   "execution_count": 10,
   "metadata": {},
   "outputs": [],
   "source": [
    "data = np.loadtxt( \"MLoGPU_data1_train.csv\", delimiter=\",\", dtype=np.float32 )\n",
    "training_vecs = np.array( data[ :, 0:-1 ] )\n",
    "labels = np.array( data[ :, -1 ] )\n",
    "\n",
    "# Trying the code for smaller batch of data\n",
    "#training_vecs = training_vecs[ 0:3, : ]\n",
    "#print( training_vecs )"
   ]
  },
  {
   "cell_type": "markdown",
   "metadata": {},
   "source": [
    "Defining constants and block and grid dims"
   ]
  },
  {
   "cell_type": "code",
   "execution_count": 11,
   "metadata": {},
   "outputs": [
    {
     "name": "stdout",
     "output_type": "stream",
     "text": [
      "4000\n",
      "10\n",
      "4\n",
      "(1024, 1, 1)\n",
      "(4, 1, 1)\n"
     ]
    }
   ],
   "source": [
    "N_training = training_vecs.shape[0]\n",
    "N_features = training_vecs.shape[1]\n",
    "\n",
    "if N_training < 1024:\n",
    "  THREADS = N_training\n",
    "else:\n",
    "  THREADS = 1024\n",
    "\n",
    "gridDim = int( np.ceil( N_training/THREADS ) )\n",
    "block_dims = ( THREADS, 1, 1 )\n",
    "grid_dims = ( gridDim, 1, 1 )\n",
    "\n",
    "print( N_training)\n",
    "print( N_features)\n",
    "print( gridDim )\n",
    "print( block_dims )\n",
    "print( grid_dims )"
   ]
  },
  {
   "cell_type": "markdown",
   "metadata": {},
   "source": [
    "Create test point, allocate memory to GPU"
   ]
  },
  {
   "cell_type": "code",
   "execution_count": 12,
   "metadata": {},
   "outputs": [
    {
     "name": "stdout",
     "output_type": "stream",
     "text": [
      "[[1. 1. 1. 1. 1. 1. 1. 1. 1. 1.]]\n"
     ]
    }
   ],
   "source": [
    "test_point = 1*np.ones( [1, 10], dtype = np.float32 )\n",
    "\n",
    "print( test_point )\n",
    "\n",
    "training_vecs_gpu = cuda.mem_alloc( training_vecs.nbytes )\n",
    "cuda.memcpy_htod( training_vecs_gpu, training_vecs )\n",
    "\n",
    "test_point_gpu = cuda.mem_alloc( test_point.nbytes )\n",
    "cuda.memcpy_htod( test_point_gpu, test_point )\n",
    "\n",
    "distances = np.empty( [ training_vecs.shape[0], 1 ], dtype = np.float32 )\n",
    "distances_gpu = cuda.mem_alloc( distances.nbytes )"
   ]
  },
  {
   "cell_type": "markdown",
   "metadata": {},
   "source": [
    "Defining the amont of shared memory in the kernel code and running the kernel"
   ]
  },
  {
   "cell_type": "code",
   "execution_count": 13,
   "metadata": {},
   "outputs": [],
   "source": [
    "# Compile the kernel code\n",
    "modd = SourceModule( kernel_code )\n",
    "\n",
    "dist_fun = modd.get_function( \"euclidean_distance\" )\n",
    "\n",
    "dist_fun( training_vecs_gpu, test_point_gpu, distances_gpu, np.int32( N_features ), np.int32( N_training ),\n",
    "          block = block_dims, grid = grid_dims )\n",
    "\n",
    "cuda.memcpy_dtoh( distances, distances_gpu )"
   ]
  }
 ],
 "metadata": {
  "kernelspec": {
   "display_name": "Python 3",
   "language": "python",
   "name": "python3"
  },
  "language_info": {
   "codemirror_mode": {
    "name": "ipython",
    "version": 3
   },
   "file_extension": ".py",
   "mimetype": "text/x-python",
   "name": "python",
   "nbconvert_exporter": "python",
   "pygments_lexer": "ipython3",
   "version": "3.12.1"
  }
 },
 "nbformat": 4,
 "nbformat_minor": 2
}
