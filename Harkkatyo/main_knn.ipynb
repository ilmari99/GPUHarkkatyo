{
 "cells": [
  {
   "cell_type": "markdown",
   "metadata": {},
   "source": [
    "Import libraries and define k"
   ]
  },
  {
   "cell_type": "code",
   "execution_count": 655,
   "metadata": {},
   "outputs": [],
   "source": [
    "import numpy as np\n",
    "import cupy as cp\n",
    "import time\n",
    "\n",
    "import matplotlib.pyplot as plt\n",
    "\n",
    "from sklearn.model_selection import train_test_split\n",
    "from sklearn.neighbors import KNeighborsClassifier\n",
    "from sklearn.metrics import classification_report, confusion_matrix"
   ]
  },
  {
   "cell_type": "markdown",
   "metadata": {},
   "source": [
    "Read data and split it to train and test sets. Define k."
   ]
  },
  {
   "cell_type": "code",
   "execution_count": 656,
   "metadata": {},
   "outputs": [],
   "source": [
    "k = 3\n",
    "n_test = 1000\n",
    "\n",
    "data = np.loadtxt( \"MLoGPU_data1_train.csv\", delimiter = \",\", dtype = np.float32 )\n",
    "x_data = np.array( data[ :, 0:-1 ] )\n",
    "y_data = np.array( data[ :, -1 ] ).reshape(-1, 1)\n",
    "\n",
    "X_train, X_test, Y_train, Y_test = train_test_split( x_data, y_data, test_size = n_test)#, stratify = y_data )\n"
   ]
  },
  {
   "cell_type": "code",
   "execution_count": 657,
   "metadata": {},
   "outputs": [
    {
     "data": {
      "text/plain": [
       "'l2distance = cp.RawKernel(r\"\"\"\\n  extern \"C\" __global__ \\n  void euclidean_distance( float* a, float* b, float* c, int vec_length, int vec_num) {\\n\\n    int thread_index = (blockIdx.y * blockDim.x * blockDim.y) + (threadIdx.y * blockDim.x) + threadIdx.x;\\n    int feature_index = threadIdx.x;\\n    int vec_index = blockIdx.y * blockDim.y + threadIdx.y;\\n  \\n    if ( thread_index > vec_num  ) {\\n      return;\\n    }\\n\\n    float term_diff = b[ feature_index ] - a[ thread_index ];\\n    float difference = term_diff*term_diff;\\n    \\n    c[ vec_index ] += difference;\\n    \\n    __syncthreads();\\n    \\n    float sqrtdiff = sqrtf( c[ vec_index ] );\\n    \\n    __syncthreads();\\n  \\n    c[ vec_index ] = sqrtdiff;\\n       \\n  }\\n\"\"\", \"euclidean_distance\")'"
      ]
     },
     "execution_count": 657,
     "metadata": {},
     "output_type": "execute_result"
    }
   ],
   "source": [
    "# Different approach, not working\n",
    "'''l2distance = cp.RawKernel(r\"\"\"\n",
    "  extern \"C\" __global__ \n",
    "  void euclidean_distance( float* a, float* b, float* c, int vec_length, int vec_num) {\n",
    "\n",
    "    int thread_index = (blockIdx.y * blockDim.x * blockDim.y) + (threadIdx.y * blockDim.x) + threadIdx.x;\n",
    "    int feature_index = threadIdx.x;\n",
    "    int vec_index = blockIdx.y * blockDim.y + threadIdx.y;\n",
    "  \n",
    "    if ( thread_index > vec_num  ) {\n",
    "      return;\n",
    "    }\n",
    "\n",
    "    float term_diff = b[ feature_index ] - a[ thread_index ];\n",
    "    float difference = term_diff*term_diff;\n",
    "    \n",
    "    c[ vec_index ] += difference;\n",
    "    \n",
    "    __syncthreads();\n",
    "    \n",
    "    float sqrtdiff = sqrtf( c[ vec_index ] );\n",
    "    \n",
    "    __syncthreads();\n",
    "  \n",
    "    c[ vec_index ] = sqrtdiff;\n",
    "       \n",
    "  }\n",
    "\"\"\", \"euclidean_distance\")'''"
   ]
  },
  {
   "cell_type": "markdown",
   "metadata": {},
   "source": [
    "Defining kernel code"
   ]
  },
  {
   "cell_type": "code",
   "execution_count": 658,
   "metadata": {},
   "outputs": [],
   "source": [
    "l2distance = cp.RawKernel(r\"\"\"\n",
    "  extern \"C\" __global__ \n",
    "  void euclidean_distance( float* a, float* b, float* c, int vec_length, int vec_num) {\n",
    "\n",
    "    int thread_index = blockIdx.x * blockDim.x + threadIdx.x;\n",
    "    float term_diff = 0;\n",
    "    float difference = 0;\n",
    "    \n",
    "    if ( thread_index > vec_num  ) {\n",
    "      return;\n",
    "    }\n",
    "\n",
    "    for ( int ii = 0; ii < vec_length; ++ii ) {\n",
    "      \n",
    "      term_diff = 0;\n",
    "\n",
    "      int vec_index = vec_length*thread_index + ii;\n",
    "    \n",
    "      term_diff = b[ii] - a[ vec_index ];\n",
    "      difference += term_diff*term_diff;\n",
    "      \n",
    "      __syncthreads();\n",
    "\n",
    "    }\n",
    "    c[ thread_index ] = sqrtf( difference );    \n",
    "  }\n",
    "\"\"\", \"euclidean_distance\")"
   ]
  },
  {
   "cell_type": "markdown",
   "metadata": {},
   "source": [
    "Defining constants and block and grid dims"
   ]
  },
  {
   "cell_type": "code",
   "execution_count": 659,
   "metadata": {},
   "outputs": [],
   "source": [
    "N_training = X_train.shape[0]\n",
    "N_features = X_train.shape[1]\n",
    "\n",
    "numThreadsNeeded = N_training * N_features\n",
    "numBlocks = np.int32( np.ceil( numThreadsNeeded / 1000 ) )\n",
    "\n",
    "gridDim = np.int32( np.ceil( N_training / 1000 ) )\n",
    "\n",
    "block_dims = ( 100, 10, 1 )\n",
    "grid_dims = ( numBlocks, 1, 1 )\n"
   ]
  },
  {
   "cell_type": "markdown",
   "metadata": {},
   "source": [
    "Doing the classification"
   ]
  },
  {
   "cell_type": "code",
   "execution_count": 660,
   "metadata": {},
   "outputs": [],
   "source": [
    "# Move data to device\n",
    "training_vecs_gpu = cp.asarray( X_train )\n",
    "distances = cp.empty( [ N_training, 1 ], dtype = np.float32 )\n",
    "predictions_gpu = np.zeros( ( X_test.shape[0], 1 ), dtype = np.int16 )\n",
    "\n",
    "# For each test vector\n",
    "start_time = time.perf_counter()\n",
    "for ii in range( X_test.shape[0] ):\n",
    "    \n",
    "    test_vec = X_test[ ii, : ]\n",
    "    test_vec_gpu = cp.asarray( test_vec )\n",
    "\n",
    "    # Executing the kernel\n",
    "    l2distance( grid_dims, block_dims, ( training_vecs_gpu, test_vec_gpu, distances, N_features, N_training ) )\n",
    "    \n",
    "    # Sorting the distances \n",
    "    distance_data = cp.concatenate( ( distances, cp.asarray( Y_train ) ), axis = 1 )\n",
    "    \n",
    "    ind = cp.argsort( distance_data[ :, 0 ] )\n",
    "    sorted_distances = distance_data[ ind ]\n",
    "    \n",
    "    kNearest = sorted_distances[ 0:k, 1 ]\n",
    "    unique, counts = cp.unique( kNearest, return_counts = True )\n",
    "    \n",
    "    label_ind = cp.argsort( counts )[-1]\n",
    "    predicted_label = unique[ label_ind ]\n",
    "        \n",
    "    predictions_gpu[ii] = np.int16( predicted_label.get() )\n",
    "    \n",
    "time_GPU = round( ( time.perf_counter() - start_time ), 3 )\n"
   ]
  },
  {
   "cell_type": "markdown",
   "metadata": {},
   "source": [
    "Visualizing and evaluating results"
   ]
  },
  {
   "cell_type": "code",
   "execution_count": 661,
   "metadata": {},
   "outputs": [
    {
     "name": "stdout",
     "output_type": "stream",
     "text": [
      "[[  0   0   1   0   2   0   0]\n",
      " [  0   2  16  12   2   0   0]\n",
      " [  0   4 173 114  21   5   0]\n",
      " [  0   2  66 256  68  16   0]\n",
      " [  0   0   9  69 101  22   0]\n",
      " [  0   0   1  14  14   8   0]\n",
      " [  0   0   0   1   0   1   0]]\n",
      "              precision    recall  f1-score   support\n",
      "\n",
      "         3.0       0.00      0.00      0.00         3\n",
      "         4.0       0.25      0.06      0.10        32\n",
      "         5.0       0.65      0.55      0.59       317\n",
      "         6.0       0.55      0.63      0.59       408\n",
      "         7.0       0.49      0.50      0.49       201\n",
      "         8.0       0.15      0.22      0.18        37\n",
      "         9.0       0.00      0.00      0.00         2\n",
      "\n",
      "    accuracy                           0.54      1000\n",
      "   macro avg       0.30      0.28      0.28      1000\n",
      "weighted avg       0.54      0.54      0.54      1000\n",
      "\n"
     ]
    },
    {
     "name": "stderr",
     "output_type": "stream",
     "text": [
      "c:\\Users\\erikk\\AppData\\Local\\Programs\\Python\\Python312\\Lib\\site-packages\\sklearn\\metrics\\_classification.py:1509: UndefinedMetricWarning: Precision is ill-defined and being set to 0.0 in labels with no predicted samples. Use `zero_division` parameter to control this behavior.\n",
      "  _warn_prf(average, modifier, f\"{metric.capitalize()} is\", len(result))\n",
      "c:\\Users\\erikk\\AppData\\Local\\Programs\\Python\\Python312\\Lib\\site-packages\\sklearn\\metrics\\_classification.py:1509: UndefinedMetricWarning: Precision is ill-defined and being set to 0.0 in labels with no predicted samples. Use `zero_division` parameter to control this behavior.\n",
      "  _warn_prf(average, modifier, f\"{metric.capitalize()} is\", len(result))\n",
      "c:\\Users\\erikk\\AppData\\Local\\Programs\\Python\\Python312\\Lib\\site-packages\\sklearn\\metrics\\_classification.py:1509: UndefinedMetricWarning: Precision is ill-defined and being set to 0.0 in labels with no predicted samples. Use `zero_division` parameter to control this behavior.\n",
      "  _warn_prf(average, modifier, f\"{metric.capitalize()} is\", len(result))\n"
     ]
    },
    {
     "data": {
      "image/png": "[encoded data removed]",
      "text/plain": [
       "<Figure size 640x480 with 2 Axes>"
      ]
     },
     "metadata": {},
     "output_type": "display_data"
    }
   ],
   "source": [
    "unique_labels = np.unique( data[ :, -1 ] )\n",
    "\n",
    "Y_test_bins = np.bincount( np.squeeze( Y_test ).astype( np.int16 ) )[3:]\n",
    "predicted_bins = np.bincount( np.squeeze( predictions_gpu ) )[3:]\n",
    "\n",
    "fig, axarr = plt.subplots(1,2)\n",
    "\n",
    "axarr[0].bar( unique_labels[ 0:len( Y_test_bins )], Y_test_bins ) \n",
    "titlestr = 'Training data, n_train = ' + str( y_data.shape[0] - n_test )\n",
    "axarr[0].set_title( titlestr )\n",
    "axarr[0].set( xlabel = 'Label' )\n",
    "\n",
    "axarr[1].bar( unique_labels[ 0:len( predicted_bins ) ], predicted_bins )\n",
    "titlestr = 'Test data, n_test = ' + str( n_test )\n",
    "axarr[1].set_title( titlestr )\n",
    "axarr[1].set( xlabel = 'Label' )\n",
    "\n",
    "titlestr = \"kNN, GPU. Exec time = \" + str( time_GPU ) + \" s\"\n",
    "fig.suptitle( titlestr )\n",
    "\n",
    "print( confusion_matrix( Y_test, predictions_gpu ) )\n",
    "print( classification_report( Y_test, predictions_gpu ) )"
   ]
  },
  {
   "cell_type": "markdown",
   "metadata": {},
   "source": [
    "Implementation using CPU for comparison"
   ]
  },
  {
   "cell_type": "code",
   "execution_count": 662,
   "metadata": {},
   "outputs": [
    {
     "name": "stderr",
     "output_type": "stream",
     "text": [
      "c:\\Users\\erikk\\AppData\\Local\\Programs\\Python\\Python312\\Lib\\site-packages\\sklearn\\neighbors\\_classification.py:238: DataConversionWarning: A column-vector y was passed when a 1d array was expected. Please change the shape of y to (n_samples,), for example using ravel().\n",
      "  return self._fit(X, y)\n",
      "c:\\Users\\erikk\\AppData\\Local\\Programs\\Python\\Python312\\Lib\\site-packages\\sklearn\\metrics\\_classification.py:1509: UndefinedMetricWarning: Precision is ill-defined and being set to 0.0 in labels with no predicted samples. Use `zero_division` parameter to control this behavior.\n",
      "  _warn_prf(average, modifier, f\"{metric.capitalize()} is\", len(result))\n",
      "c:\\Users\\erikk\\AppData\\Local\\Programs\\Python\\Python312\\Lib\\site-packages\\sklearn\\metrics\\_classification.py:1509: UndefinedMetricWarning: Precision is ill-defined and being set to 0.0 in labels with no predicted samples. Use `zero_division` parameter to control this behavior.\n",
      "  _warn_prf(average, modifier, f\"{metric.capitalize()} is\", len(result))\n",
      "c:\\Users\\erikk\\AppData\\Local\\Programs\\Python\\Python312\\Lib\\site-packages\\sklearn\\metrics\\_classification.py:1509: UndefinedMetricWarning: Precision is ill-defined and being set to 0.0 in labels with no predicted samples. Use `zero_division` parameter to control this behavior.\n",
      "  _warn_prf(average, modifier, f\"{metric.capitalize()} is\", len(result))\n"
     ]
    },
    {
     "name": "stdout",
     "output_type": "stream",
     "text": [
      "[[  0   0   2   0   1   0   0]\n",
      " [  1   5  16   9   1   0   0]\n",
      " [  2  15 185 105  10   0   0]\n",
      " [  0   8  94 262  40   4   0]\n",
      " [  1   2  25  75  88  10   0]\n",
      " [  1   0   3  15  12   6   0]\n",
      " [  0   0   0   2   0   0   0]]\n",
      "              precision    recall  f1-score   support\n",
      "\n",
      "         3.0       0.00      0.00      0.00         3\n",
      "         4.0       0.17      0.16      0.16        32\n",
      "         5.0       0.57      0.58      0.58       317\n",
      "         6.0       0.56      0.64      0.60       408\n",
      "         7.0       0.58      0.44      0.50       201\n",
      "         8.0       0.30      0.16      0.21        37\n",
      "         9.0       0.00      0.00      0.00         2\n",
      "\n",
      "    accuracy                           0.55      1000\n",
      "   macro avg       0.31      0.28      0.29      1000\n",
      "weighted avg       0.54      0.55      0.54      1000\n",
      "\n"
     ]
    },
    {
     "data": {
      "image/png": "[encoded data removed]",
      "text/plain": [
       "<Figure size 640x480 with 2 Axes>"
      ]
     },
     "metadata": {},
     "output_type": "display_data"
    }
   ],
   "source": [
    "\n",
    "knn_cpu = KNeighborsClassifier( n_neighbors = k )\n",
    "knn_cpu.fit( X_train, Y_train )\n",
    "\n",
    "start_time = time.perf_counter()\n",
    "\n",
    "predictions_cpu = knn_cpu.predict( X_test )\n",
    "predicted_bins = np.bincount( np.squeeze( predictions_gpu ) )[3:]\n",
    "\n",
    "time_CPU = round( ( time.perf_counter() - start_time ), 3 )\n",
    "\n",
    "fig, axarr = plt.subplots(1,2)\n",
    "\n",
    "# Visualizing and evaluation\n",
    "axarr[0].bar( unique_labels[ 0:len( Y_test_bins )], Y_test_bins ) \n",
    "titlestr = 'Training data, n_train = ' + str( y_data.shape[0] - n_test )\n",
    "axarr[0].set_title( titlestr )\n",
    "axarr[0].set( xlabel = 'Label' )\n",
    "\n",
    "axarr[1].bar( unique_labels[ 0:len( predicted_bins ) ], predicted_bins )\n",
    "titlestr = 'Test data, n_test = ' + str( n_test )\n",
    "axarr[1].set_title( titlestr )\n",
    "axarr[1].set( xlabel = 'Label' )\n",
    "\n",
    "titlestr = \"kNN, GPU. Exec time = \" + str( time_CPU ) + \" s\"\n",
    "fig.suptitle( titlestr )\n",
    "\n",
    "print( confusion_matrix( Y_test, predictions_cpu ) )\n",
    "print( classification_report( Y_test, predictions_cpu ) )"
   ]
  }
 ],
 "metadata": {
  "kernelspec": {
   "display_name": "Python 3",
   "language": "python",
   "name": "python3"
  },
  "language_info": {
   "codemirror_mode": {
    "name": "ipython",
    "version": 3
   },
   "file_extension": ".py",
   "mimetype": "text/x-python",
   "name": "python",
   "nbconvert_exporter": "python",
   "pygments_lexer": "ipython3",
   "version": "3.12.1"
  }
 },
 "nbformat": 4,
 "nbformat_minor": 2
}
